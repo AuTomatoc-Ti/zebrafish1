{
 "cells": [
  {
   "cell_type": "code",
   "execution_count": 21,
   "id": "55639d68",
   "metadata": {},
   "outputs": [
    {
     "data": {
      "application/vnd.jupyter.widget-view+json": {
       "model_id": "bbf07d5752a142cd9607ee8e1f7c84d2",
       "version_major": 2,
       "version_minor": 0
      },
      "text/plain": [
       "Output()"
      ]
     },
     "metadata": {},
     "output_type": "display_data"
    },
    {
     "data": {
      "text/html": [
       "<pre style=\"white-space:pre;overflow-x:auto;line-height:normal;font-family:Menlo,'DejaVu Sans Mono',consolas,'Courier New',monospace\"></pre>\n"
      ],
      "text/plain": []
     },
     "metadata": {},
     "output_type": "display_data"
    }
   ],
   "source": [
    "import cv2\n",
    "import matplotlib.pyplot as plt\n",
    "import numpy as np\n",
    "from idtrackerai import ListOfBlobs\n",
    "from matplotlib.patches import Ellipse\n",
    "from scipy.interpolate import splev\n",
    "\n",
    "from fishmidline import get_spline\n",
    "\n",
    "list_of_blobs = ListOfBlobs.load(\"100_3.pickle\")\n",
    "\n"
   ]
  },
  {
   "cell_type": "code",
   "execution_count": 24,
   "id": "29daaf39",
   "metadata": {},
   "outputs": [
    {
     "name": "stdout",
     "output_type": "stream",
     "text": [
      "Processing IDENTITY=1\n"
     ]
    },
    {
     "name": "stderr",
     "output_type": "stream",
     "text": [
      "/tmp/ipykernel_168194/4289584096.py:22: DeprecationWarning: Call to deprecated function (or staticmethod) bbox_in_frame_coordinates. (Use `bbox_corners` instead) -- Deprecated since version 6.0.0.\n",
      "  midline[frame_number,IDENTITY-1, :, 0] = midline_x+blob.bbox_in_frame_coordinates[0][0]\n",
      "/tmp/ipykernel_168194/4289584096.py:23: DeprecationWarning: Call to deprecated function (or staticmethod) bbox_in_frame_coordinates. (Use `bbox_corners` instead) -- Deprecated since version 6.0.0.\n",
      "  midline[frame_number,IDENTITY-1, :, 1] = midline_y+blob.bbox_in_frame_coordinates[0][1]\n"
     ]
    },
    {
     "name": "stdout",
     "output_type": "stream",
     "text": [
      "Processing IDENTITY=2\n",
      "Skipping IDENTITY=2 in frame 1386 due to TypeError\n",
      "Processing IDENTITY=3\n",
      "Processing IDENTITY=4\n",
      "Processing IDENTITY=5\n",
      "Processing IDENTITY=6\n",
      "Processing IDENTITY=7\n",
      "Processing IDENTITY=8\n",
      "Processing IDENTITY=9\n",
      "Processing IDENTITY=10\n",
      "Processing IDENTITY=11\n",
      "Processing IDENTITY=12\n",
      "Processing IDENTITY=13\n",
      "Processing IDENTITY=14\n",
      "Processing IDENTITY=15\n",
      "Processing IDENTITY=16\n",
      "Processing IDENTITY=17\n",
      "Processing IDENTITY=18\n",
      "Processing IDENTITY=19\n",
      "Processing IDENTITY=20\n",
      "Processing IDENTITY=21\n",
      "Processing IDENTITY=22\n",
      "Processing IDENTITY=23\n",
      "Processing IDENTITY=24\n",
      "Processing IDENTITY=25\n",
      "Skipping IDENTITY=25 in frame 13686 due to TypeError\n",
      "Processing IDENTITY=26\n",
      "Processing IDENTITY=27\n",
      "Processing IDENTITY=28\n",
      "Processing IDENTITY=29\n",
      "Processing IDENTITY=30\n",
      "Processing IDENTITY=31\n",
      "Processing IDENTITY=32\n",
      "Processing IDENTITY=33\n",
      "Skipping IDENTITY=33 in frame 1299 due to TypeError\n",
      "Processing IDENTITY=34\n",
      "Processing IDENTITY=35\n",
      "Processing IDENTITY=36\n",
      "Processing IDENTITY=37\n",
      "Processing IDENTITY=38\n",
      "Processing IDENTITY=39\n",
      "Processing IDENTITY=40\n",
      "Processing IDENTITY=41\n",
      "Processing IDENTITY=42\n",
      "Processing IDENTITY=43\n",
      "Skipping IDENTITY=43 in frame 1260 due to TypeError\n",
      "Processing IDENTITY=44\n",
      "Processing IDENTITY=45\n",
      "Processing IDENTITY=46\n",
      "Processing IDENTITY=47\n",
      "Processing IDENTITY=48\n",
      "Processing IDENTITY=49\n",
      "Processing IDENTITY=50\n",
      "Processing IDENTITY=51\n",
      "Processing IDENTITY=52\n",
      "Processing IDENTITY=53\n",
      "Processing IDENTITY=54\n",
      "Processing IDENTITY=55\n",
      "Processing IDENTITY=56\n",
      "Processing IDENTITY=57\n",
      "Processing IDENTITY=58\n",
      "Processing IDENTITY=59\n",
      "Processing IDENTITY=60\n",
      "Processing IDENTITY=61\n",
      "Processing IDENTITY=62\n",
      "Processing IDENTITY=63\n",
      "Processing IDENTITY=64\n",
      "Processing IDENTITY=65\n",
      "Processing IDENTITY=66\n",
      "Processing IDENTITY=67\n",
      "Processing IDENTITY=68\n",
      "Processing IDENTITY=69\n",
      "Processing IDENTITY=70\n",
      "Skipping IDENTITY=70 in frame 16139 due to TypeError\n",
      "Processing IDENTITY=71\n",
      "Processing IDENTITY=72\n",
      "Processing IDENTITY=73\n",
      "Processing IDENTITY=74\n",
      "Processing IDENTITY=75\n",
      "Skipping IDENTITY=75 in frame 10083 due to TypeError\n",
      "Skipping IDENTITY=75 in frame 12574 due to TypeError\n",
      "Skipping IDENTITY=75 in frame 12728 due to TypeError\n",
      "Skipping IDENTITY=75 in frame 12732 due to TypeError\n",
      "Processing IDENTITY=76\n",
      "Processing IDENTITY=77\n",
      "Processing IDENTITY=78\n",
      "Processing IDENTITY=79\n",
      "Processing IDENTITY=80\n",
      "Processing IDENTITY=81\n",
      "Processing IDENTITY=82\n"
     ]
    },
    {
     "name": "stderr",
     "output_type": "stream",
     "text": [
      "/mnt/c/zebrafish1/fishmidline.py:71: RuntimeWarning: invalid value encountered in divide\n",
      "  return (dx_1 * dy_2 - dy_1 * dx_2) / np.power(dx_1 * dx_1 + dy_1 * dy_1, 3 / 2)\n"
     ]
    },
    {
     "name": "stdout",
     "output_type": "stream",
     "text": [
      "Processing IDENTITY=83\n",
      "Processing IDENTITY=84\n",
      "Processing IDENTITY=85\n",
      "Skipping IDENTITY=85 in frame 585 due to TypeError\n",
      "Processing IDENTITY=86\n",
      "Processing IDENTITY=87\n",
      "Skipping IDENTITY=87 in frame 585 due to TypeError\n",
      "Processing IDENTITY=88\n",
      "Processing IDENTITY=89\n",
      "Skipping IDENTITY=89 in frame 3524 due to TypeError\n",
      "Processing IDENTITY=90\n",
      "Processing IDENTITY=91\n",
      "Processing IDENTITY=92\n",
      "Processing IDENTITY=93\n",
      "Processing IDENTITY=94\n",
      "Processing IDENTITY=95\n",
      "Skipping IDENTITY=95 in frame 3113 due to TypeError\n",
      "Processing IDENTITY=96\n",
      "Skipping IDENTITY=96 in frame 13321 due to TypeError\n",
      "Processing IDENTITY=97\n",
      "Processing IDENTITY=98\n",
      "Processing IDENTITY=99\n",
      "Processing IDENTITY=100\n"
     ]
    }
   ],
   "source": [
    "n_points=3\n",
    "midline= np.zeros((19526,100, n_points, 2), dtype=np.float32)\n",
    "for IDENTITY in range(1,101):\n",
    "    print(f\"Processing IDENTITY={IDENTITY}\")\n",
    "    for frame_number in range(19526):\n",
    "        blobs_in_frame = list_of_blobs.blobs_in_video[frame_number]\n",
    "        try:\n",
    "            blob = [blob for blob in blobs_in_frame if IDENTITY in blob.final_identities][0]\n",
    "            try:\n",
    "                spline_params = get_spline(blob)\n",
    "            except TypeError:\n",
    "                print(f\"Skipping IDENTITY={IDENTITY} in frame {frame_number} due to TypeError\")\n",
    "                continue\n",
    "            spline_samples = np.linspace(0, 1, n_points)\n",
    "            midline_x, midline_y = splev(spline_samples, spline_params)\n",
    "            head = splev(0, spline_params)\n",
    "            derivative_x, derivative_y = splev(spline_samples, spline_params, der=1)\n",
    "            midline_angles = np.arctan2(derivative_x, derivative_y)\n",
    "\n",
    "            #center, (width, height), angle = cv2.fitEllipse(blob.contour)\n",
    "            #center = np.asarray(center) - blob.bbox_in_frame_coordinates[0] + 1\n",
    "            midline[frame_number,IDENTITY-1, :, 0] = midline_x+blob.bbox_in_frame_coordinates[0][0]\n",
    "            midline[frame_number,IDENTITY-1, :, 1] = midline_y+blob.bbox_in_frame_coordinates[0][1]\n",
    "        except IndexError:\n",
    "            print(f\"{IDENTITY=} in {frame_number=} not found!\")\n",
    "            continue"
   ]
  },
  {
   "cell_type": "code",
   "execution_count": 25,
   "id": "4aa18ac1",
   "metadata": {},
   "outputs": [],
   "source": [
    "import numpy as np\n",
    "from scipy.interpolate import interp1d\n",
    "\n",
    "# Example data: (N, 2) array with some (0, 0) entries\n",
    "\n",
    "# Step 1: Identify valid (non-zero) entries\n",
    "for i in range(midline.shape[1]):\n",
    "    for j in range(3):\n",
    "        validx= midline[:, i, j, 0] != 0  # Mask for valid entries (non-zero x-coordinates)\n",
    "        validy = midline[:, i, j, 1] != 0  # Mask for valid entries (non-zero y-coordinates)\n",
    "        invalidx= midline[:, i, j, 0] == 0  # Mask for invalid entries (zero x-coordinates)\n",
    "        invalidy = midline[:, i, j, 1] == 0  # Mask for invalid entries (zero y-coordinates)\n",
    "        interp_func_x = interp1d(\n",
    "            np.arange(midline.shape[0])[validx], \n",
    "            midline[validx, i, j, 0],\n",
    "            kind='linear', \n",
    "            fill_value='extrapolate'\n",
    "        )\n",
    "        interp_func_y = interp1d(\n",
    "            np.arange(midline.shape[0])[validy], \n",
    "            midline[validy, i, j, 1],\n",
    "            kind='linear', \n",
    "            fill_value='extrapolate'\n",
    "        )\n",
    "        midline[invalidx, i, j, 0] = interp_func_x(np.arange(midline.shape[0])[invalidx])\n",
    "        midline[invalidy, i, j, 1] = interp_func_y(np.arange(midline.shape[0])[invalidy])\n"
   ]
  },
  {
   "cell_type": "code",
   "execution_count": 26,
   "id": "8d0e7946",
   "metadata": {},
   "outputs": [],
   "source": [
    "np.save(\"data_midline/100_3.npy\", midline)"
   ]
  },
  {
   "cell_type": "code",
   "execution_count": null,
   "id": "f0dc24f6",
   "metadata": {},
   "outputs": [
    {
     "name": "stderr",
     "output_type": "stream",
     "text": [
      "/tmp/ipykernel_168194/3046257258.py:28: RuntimeWarning: invalid value encountered in scalar divide\n",
      "  np.dot(v1, v2) / (np.linalg.norm(v1) * np.linalg.norm(v2)), -1, 1\n"
     ]
    },
    {
     "ename": "",
     "evalue": "",
     "output_type": "error",
     "traceback": [
      "\u001b[1;31mThe Kernel crashed while executing code in the current cell or a previous cell. \n",
      "\u001b[1;31mPlease review the code in the cell(s) to identify a possible cause of the failure. \n",
      "\u001b[1;31mClick <a href='https://aka.ms/vscodeJupyterKernelCrash'>here</a> for more info. \n",
      "\u001b[1;31mView Jupyter <a href='command:jupyter.viewOutput'>log</a> for further details."
     ]
    }
   ],
   "source": [
    "midline=np.load('data_midline/100_2.npy')\n",
    "\n",
    "def ensure_consistent_head_tail(fish_data):\n",
    "    \"\"\"\n",
    "    fish_data: numpy array of shape (N, m, k, 2), where k=3 (head, body, tail).\n",
    "    Modifies the array in-place to ensure the head is always moving forward.\n",
    "    \"\"\"\n",
    "    N, m, k, _ = fish_data.shape\n",
    "    \n",
    "    for i in range(N - 1):  # Skip last frame (no future data)\n",
    "            for j in range(m):\n",
    "                # Current body, head, and tail positions\n",
    "                curr_body = fish_data[i, j, 1]\n",
    "                curr_head = fish_data[i, j, 0]\n",
    "                curr_tail = fish_data[i, j, 2]\n",
    "                \n",
    "                # Body velocity (using next frame)\n",
    "                next_body = fish_data[i+1, j, 1]\n",
    "                body_velocity = next_body - curr_body\n",
    "                \n",
    "                # Vectors from head and tail to body\n",
    "                head_to_body =  curr_head-curr_body\n",
    "                tail_to_body =  curr_tail-curr_body \n",
    "                \n",
    "                # Compute angles (in radians)\n",
    "                def angle_between(v1, v2):\n",
    "                    return np.arccos(np.clip(\n",
    "                        np.dot(v1, v2) / (np.linalg.norm(v1) * np.linalg.norm(v2)), -1, 1\n",
    "                    ))\n",
    "                \n",
    "                angle_head = angle_between(body_velocity, head_to_body)\n",
    "                angle_tail = angle_between(body_velocity, tail_to_body)\n",
    "                \n",
    "                # If head angle is larger, swap head and tail\n",
    "                if angle_head > angle_tail:\n",
    "                    fish_data[i, j, 0], fish_data[i, j, 2] = fish_data[i, j, 2].copy(), fish_data[i, j, 0].copy()\n",
    "\n",
    "    return fish_data\n",
    "# Ensure consistent head and tail across frames\n",
    "midline = ensure_consistent_head_tail(midline)\n",
    "def ensure_consistent_head_tail(fish_data):\n",
    "    \"\"\"\n",
    "    fish_data: numpy array of shape (N, m, k, 2), where k=3 (head, body, tail).\n",
    "    Modifies the array in-place to ensure consistent head/tail labeling.\n",
    "    \"\"\"\n",
    "    N, m, k, _ = fish_data.shape\n",
    "    \n",
    "    for i in range(1, N):\n",
    "        for j in range(m):\n",
    "            # Previous head and tail (frame i-1)\n",
    "            prev_head = fish_data[i-1, j, 0]\n",
    "            prev_body = fish_data[i-1, j, 1]\n",
    "            prev_tail = fish_data[i-1, j, 2]\n",
    "            \n",
    "            # Current candidate head and tail (frame i)\n",
    "            curr_head = fish_data[i, j, 0]\n",
    "            curr_body= fish_data[i, j, 1]\n",
    "            curr_tail = fish_data[i, j, 2]\n",
    "            prev_head_to_body =  prev_head-prev_body\n",
    "            head_to_body =  curr_head-curr_body\n",
    "            tail_to_body =  curr_tail-curr_body \n",
    "            def angle_between(v1, v2):\n",
    "                return np.arccos(np.clip(\n",
    "                    np.dot(v1, v2) / (np.linalg.norm(v1) * np.linalg.norm(v2)), -1, 1\n",
    "                ))\n",
    "            # Compute distances\n",
    "            angle_head = angle_between(prev_head_to_body, head_to_body)\n",
    "            angle_tail = angle_between(prev_head_to_body, tail_to_body)\n",
    "            \n",
    "            # If curr_tail is closer to prev_head, swap head and tail\n",
    "            if angle_head > angle_tail:\n",
    "                fish_data[i, j, 0], fish_data[i, j, 2] = fish_data[i, j, 2].copy(), fish_data[i, j, 0].copy()\n",
    "\n",
    "    return fish_data\n",
    "midline = ensure_consistent_head_tail(midline)\n",
    "# Save the modified midline data\n",
    "np.save(\"data_midline/100_2_consistent.npy\", midline)"
   ]
  }
 ],
 "metadata": {
  "kernelspec": {
   "display_name": "idtrackerai",
   "language": "python",
   "name": "python3"
  },
  "language_info": {
   "codemirror_mode": {
    "name": "ipython",
    "version": 3
   },
   "file_extension": ".py",
   "mimetype": "text/x-python",
   "name": "python",
   "nbconvert_exporter": "python",
   "pygments_lexer": "ipython3",
   "version": "3.10.18"
  }
 },
 "nbformat": 4,
 "nbformat_minor": 5
}
