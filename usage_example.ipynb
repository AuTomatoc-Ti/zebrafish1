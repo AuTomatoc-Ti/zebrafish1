{
 "cells": [
  {
   "cell_type": "code",
   "execution_count": null,
   "metadata": {},
   "outputs": [
    {
     "data": {
      "application/vnd.jupyter.widget-view+json": {
       "model_id": "5de2d36d6a7347289a4aca72adaea27f",
       "version_major": 2,
       "version_minor": 0
      },
      "text/plain": [
       "Output()"
      ]
     },
     "metadata": {},
     "output_type": "display_data"
    }
   ],
   "source": [
    "import cv2\n",
    "import matplotlib.pyplot as plt\n",
    "import numpy as np\n",
    "from idtrackerai import ListOfBlobs\n",
    "from matplotlib.patches import Ellipse\n",
    "from scipy.interpolate import splev\n",
    "\n",
    "from fishmidline import get_spline\n",
    "\n",
    "list_of_blobs = ListOfBlobs.load(\"100_3.pickle\")\n",
    "\n"
   ]
  },
  {
   "cell_type": "code",
   "execution_count": 18,
   "metadata": {},
   "outputs": [],
   "source": [
    "IDENTITY = 100\n",
    "n_points = 3"
   ]
  },
  {
   "cell_type": "code",
   "execution_count": 28,
   "metadata": {},
   "outputs": [
    {
     "name": "stdout",
     "output_type": "stream",
     "text": [
      "Processing IDENTITY=1\n"
     ]
    },
    {
     "name": "stderr",
     "output_type": "stream",
     "text": [
      "/tmp/ipykernel_143197/758597494.py:22: DeprecationWarning: Call to deprecated function (or staticmethod) bbox_in_frame_coordinates. (Use `bbox_corners` instead) -- Deprecated since version 6.0.0.\n",
      "  midline[frame_number,IDENTITY-1, :, 0] = midline_x+blob.bbox_in_frame_coordinates[0][0]\n",
      "/tmp/ipykernel_143197/758597494.py:23: DeprecationWarning: Call to deprecated function (or staticmethod) bbox_in_frame_coordinates. (Use `bbox_corners` instead) -- Deprecated since version 6.0.0.\n",
      "  midline[frame_number,IDENTITY-1, :, 1] = midline_y+blob.bbox_in_frame_coordinates[0][1]\n"
     ]
    },
    {
     "ename": "IndexError",
     "evalue": "list index out of range",
     "output_type": "error",
     "traceback": [
      "\u001b[0;31m---------------------------------------------------------------------------\u001b[0m",
      "\u001b[0;31mIndexError\u001b[0m                                Traceback (most recent call last)",
      "Cell \u001b[0;32mIn[28], line 5\u001b[0m\n\u001b[1;32m      3\u001b[0m \u001b[38;5;28mprint\u001b[39m(\u001b[38;5;124mf\u001b[39m\u001b[38;5;124m\"\u001b[39m\u001b[38;5;124mProcessing IDENTITY=\u001b[39m\u001b[38;5;132;01m{\u001b[39;00mIDENTITY\u001b[38;5;132;01m}\u001b[39;00m\u001b[38;5;124m\"\u001b[39m)\n\u001b[1;32m      4\u001b[0m \u001b[38;5;28;01mfor\u001b[39;00m frame_number \u001b[38;5;129;01min\u001b[39;00m \u001b[38;5;28mrange\u001b[39m(\u001b[38;5;241m19614\u001b[39m):\n\u001b[0;32m----> 5\u001b[0m     blobs_in_frame \u001b[38;5;241m=\u001b[39m \u001b[43mlist_of_blobs\u001b[49m\u001b[38;5;241;43m.\u001b[39;49m\u001b[43mblobs_in_video\u001b[49m\u001b[43m[\u001b[49m\u001b[43mframe_number\u001b[49m\u001b[43m]\u001b[49m\n\u001b[1;32m      6\u001b[0m     \u001b[38;5;28;01mtry\u001b[39;00m:\n\u001b[1;32m      7\u001b[0m         blob \u001b[38;5;241m=\u001b[39m [blob \u001b[38;5;28;01mfor\u001b[39;00m blob \u001b[38;5;129;01min\u001b[39;00m blobs_in_frame \u001b[38;5;28;01mif\u001b[39;00m IDENTITY \u001b[38;5;129;01min\u001b[39;00m blob\u001b[38;5;241m.\u001b[39mfinal_identities][\u001b[38;5;241m0\u001b[39m]\n",
      "\u001b[0;31mIndexError\u001b[0m: list index out of range"
     ]
    }
   ],
   "source": [
    "midline= np.zeros((19614,100, n_points, 2), dtype=np.float32)\n",
    "for IDENTITY in range(1,101):\n",
    "    print(f\"Processing IDENTITY={IDENTITY}\")\n",
    "    for frame_number in range(19614):\n",
    "        blobs_in_frame = list_of_blobs.blobs_in_video[frame_number]\n",
    "        try:\n",
    "            blob = [blob for blob in blobs_in_frame if IDENTITY in blob.final_identities][0]\n",
    "        except IndexError:\n",
    "            print(f\"{IDENTITY=} in {frame_number=} not found!\")\n",
    "            continue\n",
    "\n",
    "        spline_params = get_spline(blob)\n",
    "\n",
    "        spline_samples = np.linspace(0, 1, n_points)\n",
    "        midline_x, midline_y = splev(spline_samples, spline_params)\n",
    "        head = splev(0, spline_params)\n",
    "        derivative_x, derivative_y = splev(spline_samples, spline_params, der=1)\n",
    "        midline_angles = np.arctan2(derivative_x, derivative_y)\n",
    "\n",
    "        #center, (width, height), angle = cv2.fitEllipse(blob.contour)\n",
    "        #center = np.asarray(center) - blob.bbox_in_frame_coordinates[0] + 1\n",
    "        midline[frame_number,IDENTITY-1, :, 0] = midline_x+blob.bbox_in_frame_coordinates[0][0]\n",
    "        midline[frame_number,IDENTITY-1, :, 1] = midline_y+blob.bbox_in_frame_coordinates[0][1]\n",
    "\n",
    "    \"\"\"\n",
    "    fig = plt.figure()\n",
    "    ax1 = fig.add_subplot(1, 3, 1)\n",
    "    ax2 = fig.add_subplot(1, 3, 2)\n",
    "    ax3 = fig.add_subplot(1, 3, 3)\n",
    "\n",
    "    binary_image = blob.get_bbox_mask()\n",
    "    for ax in (ax1, ax2, ax3):\n",
    "        ax.set(aspect=1, xticks=(), yticks=())\n",
    "        ax.imshow(binary_image, cmap=\"gray\")\n",
    "\n",
    "    ax1.add_artist(\n",
    "        Ellipse(\n",
    "            xy=tuple(center),\n",
    "            width=width,\n",
    "            height=height,\n",
    "            angle=angle,\n",
    "            facecolor=\"none\",\n",
    "            edgecolor=\"red\",\n",
    "        )\n",
    "    )\n",
    "    ax1.plot(*(np.asarray(blob.centroid) - blob.bbox_in_frame_coordinates[0] + 1), \"g.\")\n",
    "    ax1.plot(*(np.asarray(center)), \"r.\")\n",
    "    ax1.set(title=\"Fitted ellipse\\nand centroid\")\n",
    "\n",
    "    ax2.plot(midline_x, midline_y, \".-\")\n",
    "    ax2.plot(*splev(0, spline_params), \"r.\")\n",
    "    ax2.set(title=\"Midline and\\nhead position\")\n",
    "\n",
    "    ax3.plot(midline_x, midline_y, \".\")\n",
    "    ax3.plot(\n",
    "        [\n",
    "            midline_x - 2 * np.sin(midline_angles),\n",
    "            midline_x + 2 * np.sin(midline_angles),\n",
    "        ],\n",
    "        [\n",
    "            midline_y - 2 * np.cos(midline_angles),\n",
    "            midline_y + 2 * np.cos(midline_angles),\n",
    "        ],\n",
    "        \"r-\",\n",
    "        lw=1,\n",
    "    )\n",
    "    ax3.set(title=\"Midline angles\")\n",
    "    fig.tight_layout()\n",
    "    fig.savefig(f\"frame_{frame_number}.png\")\n",
    "    plt.close()\n",
    "    \"\"\"\n",
    "np.save(f\"data_midline/100_2\", midline)"
   ]
  }
 ],
 "metadata": {
  "kernelspec": {
   "display_name": "idtrackerai",
   "language": "python",
   "name": "python3"
  },
  "language_info": {
   "codemirror_mode": {
    "name": "ipython",
    "version": 3
   },
   "file_extension": ".py",
   "mimetype": "text/x-python",
   "name": "python",
   "nbconvert_exporter": "python",
   "pygments_lexer": "ipython3",
   "version": "3.10.18"
  }
 },
 "nbformat": 4,
 "nbformat_minor": 2
}
